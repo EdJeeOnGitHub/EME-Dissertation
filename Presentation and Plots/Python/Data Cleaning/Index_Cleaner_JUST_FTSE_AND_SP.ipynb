{
 "cells": [
  {
   "cell_type": "code",
   "execution_count": 1,
   "metadata": {
    "collapsed": true
   },
   "outputs": [],
   "source": [
    "import pandas as pd\n",
    "import numpy as np\n"
   ]
  },
  {
   "cell_type": "code",
   "execution_count": 9,
   "metadata": {
    "collapsed": true
   },
   "outputs": [],
   "source": [
    "index_df = pd.read_excel(r'E:\\EME Data\\Large_Index_Data.xlsx', date_parser=True)"
   ]
  },
  {
   "cell_type": "code",
   "execution_count": 16,
   "metadata": {},
   "outputs": [
    {
     "data": {
      "text/plain": [
       "Index(['Name', 'S&P 500 COMPOSITE - PRICE INDEX', 'Name.1',\n",
       "       'S&P 500 COMPOSITE - PRICE INDEX (~£ )', 'Name.2',\n",
       "       'US $ TO UK £ (WMR) - EXCHANGE RATE', 'Name.3',\n",
       "       'FTSE ALL SHARE - PRICE INDEX', 'MSCI UK - PRICE INDEX',\n",
       "       'FT 30 ORDINARY SHARE - PRICE INDEX', 'FTSE 100 - PRICE INDEX',\n",
       "       'Name.4', 'DAX 30 PERFORMANCE - PRICE INDEX (~£ )', 'Name.5',\n",
       "       'MSCI AUSTRALIA - PRICE INDEX (~£ )', 'Name.6',\n",
       "       'ISRAEL TA 125 - PRICE INDEX (~£ )', 'FTSE ISRAEL - PRICE INDEX (~£ )',\n",
       "       'Name.7', 'ISRAEL TA 125 - PRICE INDEX (~U$)',\n",
       "       'FTSE ISRAEL - PRICE INDEX (~U$)', 'Name.8',\n",
       "       'NASDAQ COMPOSITE - PRICE INDEX', 'NASDAQ 100 - PRICE INDEX', 'Name.9',\n",
       "       'UK £ TO US $ (WMR) - EXCHANGE RATE'],\n",
       "      dtype='object')"
      ]
     },
     "execution_count": 16,
     "metadata": {},
     "output_type": "execute_result"
    }
   ],
   "source": [
    "index_df.columns"
   ]
  },
  {
   "cell_type": "raw",
   "metadata": {},
   "source": [
    "'''\n",
    "Due to the layout of the excel spreadsheet it's simplest to just manually select the dataframes we want than write a generic \n",
    "function.\n",
    "\n",
    "(This is mainly because of the structure of the date columns, in some cases the date column is referring to the date for the \n",
    "next column on the right in other cases it can be the date values for the next three columns e.g. Name vs Name.3).\n",
    "\n",
    "Each cell below will be for a separate selection of columns\n",
    "'''\n"
   ]
  },
  {
   "cell_type": "code",
   "execution_count": 30,
   "metadata": {
    "collapsed": true
   },
   "outputs": [],
   "source": [
    "## S&P500 Composite in GBP and FTSE100 in GBP ##\n",
    "\n",
    "\n",
    "SP500_df1 = index_df[['Name', 'S&P 500 COMPOSITE - PRICE INDEX (~£ )']].copy()\n",
    "FTSE100_df1 = index_df[['Name.3', 'FTSE 100 - PRICE INDEX']].copy()\n",
    "\n",
    "#Dropping the first two rows and parsing the date for each index\n",
    "SP500_df1 = SP500_df1.loc[2:, :]\n",
    "FTSE100_df1 = FTSE100_df1.loc[2:, :]\n",
    "SP500_df1['Date'] = pd.to_datetime(SP500_df1['Name'], format = '%Y/%m/%d')\n",
    "FTSE100_df1['Date'] = pd.to_datetime(FTSE100_df1['Name.3'], format = '%Y/%m/%d')\n",
    "\n",
    "#Dropping the Name column\n",
    "SP500_df1 = SP500_df1.drop('Name', axis = 1)\n",
    "FTSE100_df1 = FTSE100_df1.drop('Name.3', axis = 1)\n",
    "\n",
    "#Removing observations that are NaN. (That is, observations from before the FTSE existed that are in the FTSE index)\n",
    "FTSE100_df1 = FTSE100_df1.dropna()\n",
    "SP500_df1 = SP500_df1.dropna()\n",
    "\n",
    "\n",
    "#Performing an 'inner' merge, this means we'll lose observations for the longer dataset. We'll also lose any observations that\n",
    "#occur in one index but not another - I think this shouldn't be a problem as both indices should just be jointly missing\n",
    "#weekends but need to check. TODO: Check date observations actually match.\n",
    "joint_index_1 = SP500_df1.merge(how='inner', right = FTSE100_df1, on = 'Date')\n",
    "\n",
    "#Rearranging column order\n",
    "joint_index_1 = joint_index_1[['Date','S&P 500 COMPOSITE - PRICE INDEX (~£ )','FTSE 100 - PRICE INDEX' ]]\n",
    "joint_index_1.head()\n",
    "\n",
    "#Saving to Excel\n",
    "#joint_index_1.to_excel(r'E:\\EME Data\\Clean Data\\Indices\\SP500 FTSE100 GBP.xlsx')"
   ]
  }
 ],
 "metadata": {
  "kernelspec": {
   "display_name": "Python 3",
   "language": "python",
   "name": "python3"
  },
  "language_info": {
   "codemirror_mode": {
    "name": "ipython",
    "version": 3
   },
   "file_extension": ".py",
   "mimetype": "text/x-python",
   "name": "python",
   "nbconvert_exporter": "python",
   "pygments_lexer": "ipython3",
   "version": "3.6.3"
  }
 },
 "nbformat": 4,
 "nbformat_minor": 2
}
