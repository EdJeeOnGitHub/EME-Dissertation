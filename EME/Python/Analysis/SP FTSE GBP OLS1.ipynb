{
 "cells": [
  {
   "cell_type": "code",
   "execution_count": 1,
   "metadata": {},
   "outputs": [
    {
     "name": "stderr",
     "output_type": "stream",
     "text": [
      "C:\\Users\\nfa\\AppData\\Local\\Continuum\\anaconda3\\lib\\site-packages\\statsmodels\\compat\\pandas.py:56: FutureWarning: The pandas.core.datetools module is deprecated and will be removed in a future version. Please use the pandas.tseries module instead.\n",
      "  from pandas.core import datetools\n"
     ]
    }
   ],
   "source": [
    "import pandas as pd\n",
    "import numpy as np\n",
    "import matplotlib.pyplot as plt\n",
    "from statsmodels.tsa.stattools import adfuller\n",
    "from statsmodels.regression.linear_model import OLS\n",
    "\n",
    "%matplotlib inline\n",
    "plt.style.use('fivethirtyeight')"
   ]
  },
  {
   "cell_type": "code",
   "execution_count": 2,
   "metadata": {
    "collapsed": true
   },
   "outputs": [],
   "source": [
    "#Reading in data\n",
    "index_df = pd.read_excel( r'D:\\EME Data\\Clean Data\\Indices\\SP500 FTSE100 GBP.xlsx', date_parser=True)\n",
    "terror_df = pd.read_excel(r'D:\\EME Data\\Clean Data\\Terror\\Uk_Terror_Clean2.xlsx', date_parser=True)"
   ]
  },
  {
   "cell_type": "code",
   "execution_count": 3,
   "metadata": {
    "collapsed": true
   },
   "outputs": [],
   "source": [
    "#Merging the dataframes into one\n",
    "data = index_df.merge(right = terror_df[['Date', 'nkill', 'nwound', 'propvalue', 'incident']] , on = 'Date', how = 'left')\n",
    "data = data.fillna(0)"
   ]
  },
  {
   "cell_type": "code",
   "execution_count": 4,
   "metadata": {},
   "outputs": [
    {
     "name": "stdout",
     "output_type": "stream",
     "text": [
      "(8846,)\n",
      "8846\n"
     ]
    }
   ],
   "source": [
    "print(data['Date'].shape)\n",
    "print(len(set(data['Date'])))\n"
   ]
  },
  {
   "cell_type": "markdown",
   "metadata": {},
   "source": [
    "#Creating a constant\n",
    "data['const'] = 1\n",
    "\n",
    "#Creating log variables\n",
    "data['logFTSE'] = np.log(data['FTSE 100 - PRICE INDEX'])\n",
    "data['logS&P'] = np.log(data['S&P 500 COMPOSITE - PRICE INDEX (~£ )'])\n",
    "\n",
    "#Now lagged variables\n",
    "data['L.logFTSE'] = data['logFTSE'].shift(1)\n",
    "data['L.logS&P'] = data['logS&P'].shift(1)\n",
    "data['L.propvalue'] = data['propvalue'].shift(1)\n",
    "\n",
    "#Creating difference variables\n",
    "data['D_SP'] = data['logS&P'] - data['L.logS&P']\n",
    "data['D_FTSE'] = data['logFTSE'] - data['L.logFTSE']\n",
    "\n",
    "#Creating a dummy variable for if an attack has occured. I do this by dividing the number of incidents a day by itself -\n",
    "#giving 1 for any incident number not equal to 0 and setting the divide by zero produced NAs to 0 (there's probably a better \n",
    "#method that this)\n",
    "data['terrorattack'] = data['incident']/data['incident']\n",
    "data['terrorattack'] = data['terrorattack'].fillna(0, axis=0)\n",
    "\n",
    "\n",
    "#data.to_excel(r'E:\\EME Data\\Clean Data\\Analysis Output\\FTSE and Terror merged.xlsx')\n",
    "##Running ADF test for unit root##\n",
    "\n",
    "#First we need to slightly change the dataset to the correct format for sm.OLS\n",
    "regression_df = data.dropna()\n",
    "\n",
    "#First ADF on non differenced data\n",
    "ADF_FTSE1 = adfuller(regression_df['logFTSE'], regression= 'nc')\n",
    "print('ADF_FTSE1 p-value:', ADF_FTSE1[1])\n",
    "##Therefore we fail to reject the null hypothesis that there is a unit root\n",
    "ADF_FTSE2 = adfuller(regression_df['D_FTSE'], regression='nc')\n",
    "print('ADF_FTSE2 p-value:', ADF_FTSE2[1])\n",
    "##We reject the null hypothesis that differenced log ftse has a unit root. We can conclude that it is an\n",
    "# I(1) process\n",
    "\n",
    "\n",
    "##ADF on S&P\n",
    "\n",
    "ADF_SP1 = adfuller(regression_df['logS&P'], regression= 'nc')\n",
    "print('ADF_SP1 p-value:', ADF_SP1[1])\n",
    "\n",
    "ADF_SP2 = adfuller(regression_df['D_SP'], regression='nc')\n",
    "print('ADF_SP2 p-value:', ADF_SP2[1])\n",
    "##We find similar conclusions on the S&P 500\n",
    "\n",
    "\n",
    "##Now for OLS##\n",
    "\n",
    "#Creating our independent variables matrix\n",
    "regressors =( regression_df['const'],\n",
    "              regression_df['D_SP'],\n",
    "              regression_df['propvalue'],\n",
    "              regression_df['nwound'],\n",
    "              regression_df['nkill'] )\n",
    "X_matrix = np.matrix( (regressors )).T\n",
    "\n",
    "#Creating a list of regressor names for our output summary\n",
    "regressor_name = []\n",
    "for i in np.arange(len(regressors)):\n",
    "    name = regressors[i].name\n",
    "    regressor_name = regressor_name + [name]\n",
    "\n",
    "\n",
    "#Regression1 - All terror variables, no lags\n",
    "reg1 = OLS(endog=regression_df['D_FTSE'],\n",
    "          exog = X_matrix).fit(cov_type = 'HC1')\n",
    "print('Regression 1', reg1.summary(xname=regressor_name))\n",
    "\n",
    "#Regression2 - All terror variables, two lags each\n",
    "regressors =( \n",
    "              regression_df['D_SP'],\n",
    "              regression_df['propvalue'],\n",
    "              regression_df['propvalue'].shift(1),\n",
    "            regression_df['propvalue'].shift(2),\n",
    "              regression_df['nwound'],\n",
    "            regression_df['nwound'].shift(1),\n",
    "            regression_df['nwound'].shift(2),\n",
    "              regression_df['nkill'] ,\n",
    "            regression_df['nkill'].shift(1),\n",
    "            regression_df['nkill'].shift(2))\n",
    "X_matrix = np.matrix( (regressors )).T\n",
    "regressor_name = []\n",
    "for i in np.arange(len(regressors)):\n",
    "    name = regressors[i].name\n",
    "    regressor_name = regressor_name + [name]\n",
    "\n",
    "reg2 = OLS(endog = regression_df['D_FTSE'],\n",
    "          exog =X_matrix, missing= 'drop' ).fit(cov_type = 'HC1')\n",
    "print('Regression 2', reg2.summary(xname=regressor_name))"
   ]
  },
  {
   "cell_type": "code",
   "execution_count": 6,
   "metadata": {},
   "outputs": [
    {
     "name": "stdout",
     "output_type": "stream",
     "text": [
      "                            OLS Regression Results                            \n",
      "==============================================================================\n",
      "Dep. Variable:                 D_FTSE   R-squared:                       0.177\n",
      "Model:                            OLS   Adj. R-squared:                  0.176\n",
      "Method:                 Least Squares   F-statistic:                     469.0\n",
      "Date:                Tue, 26 Dec 2017   Prob (F-statistic):          2.23e-101\n",
      "Time:                        14:18:30   Log-Likelihood:                 28379.\n",
      "No. Observations:                8845   AIC:                        -5.676e+04\n",
      "Df Residuals:                    8844   BIC:                        -5.675e+04\n",
      "Df Model:                           1                                         \n",
      "Covariance Type:                  HC1                                         \n",
      "==============================================================================\n",
      "                 coef    std err          z      P>|z|      [0.025      0.975]\n",
      "------------------------------------------------------------------------------\n",
      "D_SP           0.3652      0.017     21.656      0.000       0.332       0.398\n",
      "==============================================================================\n",
      "Omnibus:                     2268.156   Durbin-Watson:                   2.237\n",
      "Prob(Omnibus):                  0.000   Jarque-Bera (JB):            66976.934\n",
      "Skew:                          -0.603   Prob(JB):                         0.00\n",
      "Kurtosis:                      16.427   Cond. No.                         1.00\n",
      "==============================================================================\n",
      "\n",
      "Warnings:\n",
      "[1] Standard Errors are heteroscedasticity robust (HC1)\n"
     ]
    }
   ],
   "source": [
    "reg2 = OLS(endog=regression_df['D_FTSE'], exog=regression_df['D_SP']).fit(cov_type= 'HC1')\n",
    "print(reg2.summary())"
   ]
  },
  {
   "cell_type": "code",
   "execution_count": 7,
   "metadata": {
    "collapsed": true
   },
   "outputs": [],
   "source": [
    "# print(data.shape, regression_df.shape)\n",
    "# print(data.columns)\n",
    "# data.columns = ['Date', 'SP500',\n",
    "#        'FTSE100', 'nkill', 'nwound', 'propvalue', 'incident',\n",
    "#        'constant', 'logFTSE', 'logSP', 'LlogFTSE', 'LlogSP', 'Lpropvalue',\n",
    "#        'D_SP', 'D_FTSE', 'terrorattack']\n",
    "# data.to_stata(r'E:\\EME Data\\Clean Data\\Python_to_Stata_FTSE_Terror.dta', convert_dates={'Date': 'tc'})"
   ]
  }
 ],
 "metadata": {
  "kernelspec": {
   "display_name": "Python 3",
   "language": "python",
   "name": "python3"
  },
  "language_info": {
   "codemirror_mode": {
    "name": "ipython",
    "version": 3
   },
   "file_extension": ".py",
   "mimetype": "text/x-python",
   "name": "python",
   "nbconvert_exporter": "python",
   "pygments_lexer": "ipython3",
   "version": "3.6.3"
  }
 },
 "nbformat": 4,
 "nbformat_minor": 2
}
